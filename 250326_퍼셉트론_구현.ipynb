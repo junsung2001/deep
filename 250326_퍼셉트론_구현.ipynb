{
  "cells": [
    {
      "cell_type": "markdown",
      "metadata": {
        "id": "view-in-github",
        "colab_type": "text"
      },
      "source": [
        "<a href=\"https://colab.research.google.com/github/junsung2001/deep/blob/main/250326_%ED%8D%BC%EC%85%89%ED%8A%B8%EB%A1%A0_%EA%B5%AC%ED%98%84.ipynb\" target=\"_parent\"><img src=\"https://colab.research.google.com/assets/colab-badge.svg\" alt=\"Open In Colab\"/></a>"
      ]
    },
    {
      "cell_type": "code",
      "execution_count": 1,
      "metadata": {
        "id": "4IvVkQVV-bR5"
      },
      "outputs": [],
      "source": [
        "import numpy as np"
      ]
    },
    {
      "cell_type": "markdown",
      "source": [],
      "metadata": {
        "id": "TBY0re-GSCv6"
      }
    },
    {
      "cell_type": "code",
      "execution_count": 2,
      "metadata": {
        "id": "g22UduqZ-bR6"
      },
      "outputs": [],
      "source": [
        "# AND 데이터셋 정의\n",
        "AND_X = np.array([[0, 0], [0, 1], [1, 0], [1, 1]])  # 입력값\n",
        "AND_y = np.array([0, 0, 0, 1])  # AND 출력값\n",
        "\n",
        "# OR 데이터셋 정의\n",
        "OR_X = np.array([[0, 0], [0, 1], [1, 0], [1, 1]])  # 입력값\n",
        "OR_y = np.array([0, 1, 1, 1])  # OR 출력값\n",
        "\n",
        "# XOR 데이터셋 정의\n",
        "XOR_X = np.array([[0, 0], [0, 1], [1, 0], [1, 1]])  # 입력값\n",
        "XOR_y = np.array([0, 1, 1, 0])  # XOR 출력값"
      ]
    },
    {
      "cell_type": "code",
      "execution_count": 3,
      "metadata": {
        "id": "uso-thK8-bR6"
      },
      "outputs": [],
      "source": [
        "# 퍼셉트론 모델 정의\n",
        "class Perceptron:\n",
        "    def __init__(self, input_size, lr=0.1, epochs=10): #self는객체자기자신을의미\n",
        "        self.weights = np.zeros(input_size + 1)  # 가중치 초기화 (bias 포함),가중치를 weights로 받는다\n",
        "        self.lr = lr  # 학습률\n",
        "        self.epochs = epochs  # 학습 반복 횟수\n",
        "\n",
        "    def activation(self, x):\n",
        "        return 1 if x >= 0 else 0  # 단위 계단 함수\n",
        "\n",
        "    def predict(self, x):\n",
        "        z = np.dot(x, self.weights[1:]) + self.weights[0]  # 가중치와 입력값 계산\n",
        "        return self.activation(z)\n",
        "\n",
        "    def fit(self, X, y):\n",
        "        for epoch in range(self.epochs):\n",
        "            for i in range(X.shape[0]):\n",
        "                x_i = X[i]\n",
        "                y_pred = self.predict(x_i)\n",
        "                error = y[i] - y_pred\n",
        "\n",
        "                # 가중치 업데이트\n",
        "                self.weights[1:] += self.lr * error * x_i\n",
        "                self.weights[0] += self.lr * error  # bias 업데이트\n",
        "\n",
        "            # 학습 과정 출력\n",
        "            print(f\"Epoch {epoch + 1}/{self.epochs}, Weights: {self.weights}\") #for epoch in range(self.epochs):을 하면서 Epoch수 만큼 출력한다"
      ]
    },
    {
      "cell_type": "markdown",
      "metadata": {
        "id": "n1m2h47q-bR7"
      },
      "source": [
        "# AND 데이터 학습"
      ]
    },
    {
      "cell_type": "code",
      "execution_count": 4,
      "metadata": {
        "colab": {
          "base_uri": "https://localhost:8080/"
        },
        "id": "csgsRAED-bR8",
        "outputId": "8e96d3ce-862a-4ae1-a93f-437d79da0e54"
      },
      "outputs": [
        {
          "output_type": "stream",
          "name": "stdout",
          "text": [
            "Epoch 1/10, Weights: [0.  0.1 0.1]\n",
            "Epoch 2/10, Weights: [-0.1  0.2  0.1]\n",
            "Epoch 3/10, Weights: [-0.2  0.2  0.1]\n",
            "Epoch 4/10, Weights: [-0.2  0.2  0.1]\n",
            "Epoch 5/10, Weights: [-0.2  0.2  0.1]\n",
            "Epoch 6/10, Weights: [-0.2  0.2  0.1]\n",
            "Epoch 7/10, Weights: [-0.2  0.2  0.1]\n",
            "Epoch 8/10, Weights: [-0.2  0.2  0.1]\n",
            "Epoch 9/10, Weights: [-0.2  0.2  0.1]\n",
            "Epoch 10/10, Weights: [-0.2  0.2  0.1]\n"
          ]
        }
      ],
      "source": [
        "# 퍼셉트론 학습\n",
        "perceptron = Perceptron(input_size=2, lr=0.1, epochs=10)\n",
        "perceptron.fit(AND_X, AND_y)"
      ]
    },
    {
      "cell_type": "code",
      "execution_count": 5,
      "metadata": {
        "colab": {
          "base_uri": "https://localhost:8080/"
        },
        "id": "I0dNGlbQ-bR9",
        "outputId": "22a3ebd8-a519-44e1-e8b6-2c37fc031198"
      },
      "outputs": [
        {
          "output_type": "stream",
          "name": "stdout",
          "text": [
            "Input: [0 0], Predicted: 0, Target: 0\n",
            "Input: [0 1], Predicted: 0, Target: 0\n",
            "Input: [1 0], Predicted: 0, Target: 0\n",
            "Input: [1 1], Predicted: 1, Target: 1\n"
          ]
        }
      ],
      "source": [
        "# AND 테스트\n",
        "for x, target in zip(AND_X, AND_y):\n",
        "    pred = perceptron.predict(x)\n",
        "    print(f\"Input: {x}, Predicted: {pred}, Target: {target}\")"
      ]
    },
    {
      "cell_type": "markdown",
      "metadata": {
        "id": "o3bigTot-bR9"
      },
      "source": [
        "# OR 데이터 학습"
      ]
    },
    {
      "cell_type": "code",
      "execution_count": 6,
      "metadata": {
        "colab": {
          "base_uri": "https://localhost:8080/"
        },
        "id": "uQclOUvM-bR9",
        "outputId": "c1462a8c-75b1-4f1d-c336-126f7c2ad359"
      },
      "outputs": [
        {
          "output_type": "stream",
          "name": "stdout",
          "text": [
            "Epoch 1/10, Weights: [0.  0.  0.1]\n",
            "Epoch 2/10, Weights: [0.  0.1 0.1]\n",
            "Epoch 3/10, Weights: [-0.1  0.1  0.1]\n",
            "Epoch 4/10, Weights: [-0.1  0.1  0.1]\n",
            "Epoch 5/10, Weights: [-0.1  0.1  0.1]\n",
            "Epoch 6/10, Weights: [-0.1  0.1  0.1]\n",
            "Epoch 7/10, Weights: [-0.1  0.1  0.1]\n",
            "Epoch 8/10, Weights: [-0.1  0.1  0.1]\n",
            "Epoch 9/10, Weights: [-0.1  0.1  0.1]\n",
            "Epoch 10/10, Weights: [-0.1  0.1  0.1]\n"
          ]
        }
      ],
      "source": [
        "# 퍼셉트론 학습\n",
        "perceptron = Perceptron(input_size=2, lr=0.1, epochs=10)\n",
        "perceptron.fit(OR_X, OR_y)"
      ]
    },
    {
      "cell_type": "code",
      "execution_count": 7,
      "metadata": {
        "colab": {
          "base_uri": "https://localhost:8080/"
        },
        "id": "aa3durbc-bR-",
        "outputId": "52027d8b-3477-4d3d-d39a-a97c264ef1da"
      },
      "outputs": [
        {
          "output_type": "stream",
          "name": "stdout",
          "text": [
            "Input: [0 0], Predicted: 0, Target: 0\n",
            "Input: [0 1], Predicted: 1, Target: 1\n",
            "Input: [1 0], Predicted: 1, Target: 1\n",
            "Input: [1 1], Predicted: 1, Target: 1\n"
          ]
        }
      ],
      "source": [
        "# OR 테스트\n",
        "for x, target in zip(OR_X, OR_y):\n",
        "    pred = perceptron.predict(x)\n",
        "    print(f\"Input: {x}, Predicted: {pred}, Target: {target}\")"
      ]
    },
    {
      "cell_type": "markdown",
      "metadata": {
        "id": "6Wq9wcv4-bR-"
      },
      "source": [
        "# XOR 데이터 학습"
      ]
    },
    {
      "cell_type": "code",
      "execution_count": 8,
      "metadata": {
        "colab": {
          "base_uri": "https://localhost:8080/"
        },
        "id": "tfCmcViK-bR-",
        "outputId": "00229128-46ef-47cb-cc11-066766c722c7"
      },
      "outputs": [
        {
          "output_type": "stream",
          "name": "stdout",
          "text": [
            "Epoch 1/10, Weights: [-0.1 -0.1  0. ]\n",
            "Epoch 2/10, Weights: [ 0.  -0.1  0. ]\n",
            "Epoch 3/10, Weights: [ 0.  -0.1  0. ]\n",
            "Epoch 4/10, Weights: [ 0.  -0.1  0. ]\n",
            "Epoch 5/10, Weights: [ 0.  -0.1  0. ]\n",
            "Epoch 6/10, Weights: [ 0.  -0.1  0. ]\n",
            "Epoch 7/10, Weights: [ 0.  -0.1  0. ]\n",
            "Epoch 8/10, Weights: [ 0.  -0.1  0. ]\n",
            "Epoch 9/10, Weights: [ 0.  -0.1  0. ]\n",
            "Epoch 10/10, Weights: [ 0.  -0.1  0. ]\n"
          ]
        }
      ],
      "source": [
        "# 퍼셉트론 학습\n",
        "perceptron = Perceptron(input_size=2, lr=0.1, epochs=10)\n",
        "perceptron.fit(XOR_X, XOR_y)"
      ]
    },
    {
      "cell_type": "code",
      "execution_count": 9,
      "metadata": {
        "colab": {
          "base_uri": "https://localhost:8080/"
        },
        "id": "kxWWvYml-bR-",
        "outputId": "3a5d2bd8-4232-420e-da9e-ac3749f35c9e"
      },
      "outputs": [
        {
          "output_type": "stream",
          "name": "stdout",
          "text": [
            "Testing XOR Problem:\n",
            "Input: [0 0], Predicted: 1, Target: 0\n",
            "Input: [0 1], Predicted: 1, Target: 1\n",
            "Input: [1 0], Predicted: 0, Target: 1\n",
            "Input: [1 1], Predicted: 0, Target: 0\n"
          ]
        }
      ],
      "source": [
        "# XOR 문제 테스트\n",
        "print(\"Testing XOR Problem:\")\n",
        "for x, target in zip(XOR_X, XOR_y):\n",
        "    pred = perceptron.predict(x)\n",
        "    print(f\"Input: {x}, Predicted: {pred}, Target: {target}\")"
      ]
    }
  ],
  "metadata": {
    "kernelspec": {
      "display_name": "tf",
      "language": "python",
      "name": "python3"
    },
    "language_info": {
      "codemirror_mode": {
        "name": "ipython",
        "version": 3
      },
      "file_extension": ".py",
      "mimetype": "text/x-python",
      "name": "python",
      "nbconvert_exporter": "python",
      "pygments_lexer": "ipython3",
      "version": "3.9.0"
    },
    "colab": {
      "provenance": [],
      "include_colab_link": true
    }
  },
  "nbformat": 4,
  "nbformat_minor": 0
}