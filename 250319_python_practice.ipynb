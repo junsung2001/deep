{
  "nbformat": 4,
  "nbformat_minor": 0,
  "metadata": {
    "colab": {
      "provenance": [],
      "include_colab_link": true
    },
    "kernelspec": {
      "name": "python3",
      "display_name": "Python 3"
    },
    "language_info": {
      "name": "python"
    }
  },
  "cells": [
    {
      "cell_type": "markdown",
      "metadata": {
        "id": "view-in-github",
        "colab_type": "text"
      },
      "source": [
        "<a href=\"https://colab.research.google.com/github/junsung2001/deep/blob/main/250319_python_practice.ipynb\" target=\"_parent\"><img src=\"https://colab.research.google.com/assets/colab-badge.svg\" alt=\"Open In Colab\"/></a>"
      ]
    },
    {
      "cell_type": "markdown",
      "source": [
        "# Numpy 실습\n",
        "배열 연산을 빠르게 수행할 수 있도록 도와주는 라이브러리"
      ],
      "metadata": {
        "id": "O0Op_eEWBHNZ"
      }
    },
    {
      "cell_type": "code",
      "execution_count": 2,
      "metadata": {
        "colab": {
          "base_uri": "https://localhost:8080/"
        },
        "id": "tizIV_DfBGPy",
        "outputId": "a86a4536-ec94-4e4a-a401-30f657ffb1d9"
      },
      "outputs": [
        {
          "output_type": "stream",
          "name": "stdout",
          "text": [
            "[1 2 3 4]\n"
          ]
        }
      ],
      "source": [
        "import numpy as np\n",
        "\n",
        "# 1차원 배열 생성\n",
        "arr = np.array([1, 2, 3, 4])\n",
        "print(arr)  # [1 2 3 4]"
      ]
    },
    {
      "cell_type": "code",
      "source": [
        "print(arr.shape)  # 배열의 형태 출력\n",
        "print(arr.size)   # 배열의 원소 개수 출력\n",
        "print(arr.dtype)  # 데이터 타입 출력"
      ],
      "metadata": {
        "colab": {
          "base_uri": "https://localhost:8080/"
        },
        "id": "pkHheEvDBYmr",
        "outputId": "2a396a90-461f-45b8-e6dc-de320d23fd43"
      },
      "execution_count": 3,
      "outputs": [
        {
          "output_type": "stream",
          "name": "stdout",
          "text": [
            "(4,)\n",
            "4\n",
            "int64\n"
          ]
        }
      ]
    },
    {
      "cell_type": "markdown",
      "source": [
        "# Python Print Format"
      ],
      "metadata": {
        "id": "xIFGt-NGCRMu"
      }
    },
    {
      "cell_type": "code",
      "source": [
        "print(\"안녕하세요, 머신러닝 수업입니다!\")"
      ],
      "metadata": {
        "colab": {
          "base_uri": "https://localhost:8080/"
        },
        "id": "WwFYuZNCCUnG",
        "outputId": "0ac9a2f7-9c41-4fe1-fa28-949efbc7ed35"
      },
      "execution_count": 4,
      "outputs": [
        {
          "output_type": "stream",
          "name": "stdout",
          "text": [
            "안녕하세요, 머신러닝 수업입니다!\n"
          ]
        }
      ]
    },
    {
      "cell_type": "code",
      "source": [
        "fruits = [\"사과\", \"바나나\", \"키위\"]\n",
        "for fruit in fruits:\n",
        "    print(fruit)"
      ],
      "metadata": {
        "colab": {
          "base_uri": "https://localhost:8080/"
        },
        "id": "BJWJFfvwCjsU",
        "outputId": "9d7daeae-92de-42e1-8bc7-e32589bd7d7a"
      },
      "execution_count": 5,
      "outputs": [
        {
          "output_type": "stream",
          "name": "stdout",
          "text": [
            "사과\n",
            "바나나\n",
            "키위\n"
          ]
        }
      ]
    },
    {
      "cell_type": "code",
      "source": [
        "print(\"머신러닝 점수는 %d 점 입니다.\" % 85)\n",
        "print(\"%s의 점수는 70 점 입니다.\" % \"이준성\") # 자기 이름 넣어서 실행\n",
        "print(\"%s의 점수는 %d 점 입니다. %s\" % (\"이준성\",85,\"합격!\")) # 자기 이름 넣어서 실행"
      ],
      "metadata": {
        "colab": {
          "base_uri": "https://localhost:8080/"
        },
        "id": "cT3C9lLWGCG7",
        "outputId": "5ffd7390-b8d6-4d53-9f69-514bdf9ef30a"
      },
      "execution_count": 6,
      "outputs": [
        {
          "output_type": "stream",
          "name": "stdout",
          "text": [
            "머신러닝 점수는 85 점 입니다.\n",
            "이준성의 점수는 70 점 입니다.\n",
            "이준성의 점수는 85 점 입니다. 합격!\n"
          ]
        }
      ]
    },
    {
      "cell_type": "markdown",
      "source": [
        "# Python for 문"
      ],
      "metadata": {
        "id": "GpI5fa9CEoSj"
      }
    },
    {
      "cell_type": "code",
      "source": [
        "for i in range(10):\n",
        "    print(i)"
      ],
      "metadata": {
        "colab": {
          "base_uri": "https://localhost:8080/"
        },
        "id": "NmkFsz8QD6Za",
        "outputId": "aeb083cf-9e2e-43d2-985c-a30d4d1e0b3f"
      },
      "execution_count": 24,
      "outputs": [
        {
          "output_type": "stream",
          "name": "stdout",
          "text": [
            "0\n",
            "1\n",
            "2\n",
            "3\n",
            "4\n",
            "5\n",
            "6\n",
            "7\n",
            "8\n",
            "9\n"
          ]
        }
      ]
    },
    {
      "cell_type": "code",
      "source": [
        "for i in range(10):\n",
        "    print(i, end=\" \")  # end=\" \"를 사용하면 줄바꿈 없이 출력"
      ],
      "metadata": {
        "colab": {
          "base_uri": "https://localhost:8080/"
        },
        "id": "gX-AzsrOED6b",
        "outputId": "497c2b55-53f0-4250-ddca-a5a17d5eaf0e"
      },
      "execution_count": 8,
      "outputs": [
        {
          "output_type": "stream",
          "name": "stdout",
          "text": [
            "0 1 2 3 4 5 6 7 8 9 "
          ]
        }
      ]
    },
    {
      "cell_type": "code",
      "source": [
        "for idx, fruit in enumerate(fruits):\n",
        "    print(f\"{idx}: {fruit}\")"
      ],
      "metadata": {
        "colab": {
          "base_uri": "https://localhost:8080/"
        },
        "id": "OqJEOXEpEJpX",
        "outputId": "48c0f73e-0414-49be-b601-fd7334ef089b"
      },
      "execution_count": 13,
      "outputs": [
        {
          "output_type": "stream",
          "name": "stdout",
          "text": [
            "0: 사과\n",
            "1: 바나나\n",
            "2: 키위\n"
          ]
        }
      ]
    },
    {
      "cell_type": "markdown",
      "source": [
        "### 리스트 내포\n",
        "- 파이썬에서 리스트를 생성하고 초기화하는 방법\n",
        "- 반복문과 조건문을 결합하여 리스트를 한 줄로 생성할 수 있음"
      ],
      "metadata": {
        "id": "6JqssQ19EaJS"
      }
    },
    {
      "cell_type": "code",
      "source": [
        "squares = [x**2 for x in range(1, 11)]\n",
        "print(squares)"
      ],
      "metadata": {
        "colab": {
          "base_uri": "https://localhost:8080/"
        },
        "id": "0K9dAlFkEV6_",
        "outputId": "b3de9318-c040-4e57-c318-216753301d9a"
      },
      "execution_count": 27,
      "outputs": [
        {
          "output_type": "stream",
          "name": "stdout",
          "text": [
            "[1, 4, 9, 16, 25, 36, 49, 64, 81, 100]\n"
          ]
        }
      ]
    },
    {
      "cell_type": "markdown",
      "source": [
        "# 실습문제"
      ],
      "metadata": {
        "id": "wRT1PuwVE2Cv"
      }
    },
    {
      "cell_type": "markdown",
      "source": [
        "## 1. f string format을 활용해 아래와 같은 결과를 출력하세요\n",
        "출력 예시\n",
        "\n",
        "0교시 수업은 머신러닝입니다.\n",
        "\n",
        "1교시 수업은 딥러닝입니다."
      ],
      "metadata": {
        "id": "8DsqxuL5E4BQ"
      }
    },
    {
      "cell_type": "code",
      "source": [
        "my_list = [\"머신러닝\", \"딥러닝\"]\n",
        "for idx, my_list in enumerate(my_list):\n",
        "    print(f\"{idx}교시 수업은 {my_list}입니다.\")\n",
        "\n",
        "# for문 작성\n",
        "# f string format print"
      ],
      "metadata": {
        "id": "Ut3uQlqmFX5j",
        "colab": {
          "base_uri": "https://localhost:8080/"
        },
        "outputId": "f3a3d881-445f-4d31-8974-fd6913a6ed7b"
      },
      "execution_count": 3,
      "outputs": [
        {
          "output_type": "stream",
          "name": "stdout",
          "text": [
            "0교시 수업은 머신러닝입니다.\n",
            "1교시 수업은 딥러닝입니다.\n"
          ]
        }
      ]
    },
    {
      "cell_type": "markdown",
      "source": [
        "## 2. 리스트를 제곱해서 출력하는 코드를 작성하세요.\n",
        "1부터 10까지의 숫자를 담고 있는 리스트가 있습니다. 각 숫자의 제곱을 출력하는 코드를 작성하세요.\n",
        "\n",
        "출력 예시\n",
        "\n",
        "1의 제곱은 1입니다.\n",
        "\n",
        "2의 제곱은 4입니다.\n",
        "\n",
        "3의 제곱은 9입니다.\n",
        "\n",
        "...\n",
        "\n",
        "10의 제곱은 100입니다."
      ],
      "metadata": {
        "id": "-s956O2BGpKo"
      }
    },
    {
      "cell_type": "code",
      "source": [
        "numbers = list(range(1, 11))\n",
        "for idx, numbers in enumerate(numbers):\n",
        "    print(f\"{numbers}의 제곱은 {numbers*numbers}입니다\")\n",
        "\n",
        "# 출력하기"
      ],
      "metadata": {
        "id": "LaJgb8JxG8cO",
        "colab": {
          "base_uri": "https://localhost:8080/"
        },
        "outputId": "1cda0708-9a29-4887-f5af-535423c2aa4b"
      },
      "execution_count": 24,
      "outputs": [
        {
          "output_type": "stream",
          "name": "stdout",
          "text": [
            "1의 제곱은 1입니다\n",
            "2의 제곱은 4입니다\n",
            "3의 제곱은 9입니다\n",
            "4의 제곱은 16입니다\n",
            "5의 제곱은 25입니다\n",
            "6의 제곱은 36입니다\n",
            "7의 제곱은 49입니다\n",
            "8의 제곱은 64입니다\n",
            "9의 제곱은 81입니다\n",
            "10의 제곱은 100입니다\n"
          ]
        }
      ]
    }
  ]
}